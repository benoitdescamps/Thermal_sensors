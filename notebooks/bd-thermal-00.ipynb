{
 "cells": [
  {
   "cell_type": "code",
   "execution_count": 1,
   "metadata": {
    "collapsed": true
   },
   "outputs": [],
   "source": [
    "from matplotlib import pyplot as plt\n",
    "\n",
    "import numpy as np\n",
    "\n",
    "import time\n",
    "\n",
    "from IPython import display\n",
    "\n",
    "%matplotlib inline"
   ]
  },
  {
   "cell_type": "markdown",
   "metadata": {},
   "source": [
    "# 1. Heat Equation"
   ]
  },
  {
   "cell_type": "code",
   "execution_count": 2,
   "metadata": {
    "collapsed": true
   },
   "outputs": [],
   "source": [
    "Tmin = 12\n",
    "Tmax = 14\n",
    "Nx = 16\n",
    "Ny = 16\n",
    "img = (Tmax-Tmin)*np.random.rand(Nx,Ny)+Tmin"
   ]
  },
  {
   "cell_type": "code",
   "execution_count": 3,
   "metadata": {
    "collapsed": true
   },
   "outputs": [],
   "source": [
    "def _apply_boundary_conditions(img):\n",
    "    img[4:8,2:4] = 30.\n",
    "    #img[0:4,12:14] = 30.\n",
    "    #img[10:14,2:4] = 30.\n",
    "    #img[10:14,12:14] = 30.\n",
    "    img[2:14,0:1] = 10.\n",
    "    \n",
    "    return img\n",
    "\n",
    "def _propagate(img,dt,dx,dy,n_steps=1):\n",
    "    new_img = img.copy()\n",
    "    new_img[1:-1:,1:-1:] = img[1:-1:, 1:-1:] + dt*(np.diff(img, n=2, axis=0)[:,1:-1:]/(dx*dx) \\\n",
    "                                               + np.diff(img, n=2, axis=1)[1:-1:,:]/(dy*dy))\n",
    "    new_img[0,:] = new_img[1,:]\n",
    "    new_img[:,0] = new_img[:,1]\n",
    "    new_img[-1,:] = new_img[-2,:]\n",
    "    new_img[:,-1] = new_img[:,-2]\n",
    "    return _apply_boundary_conditions(\n",
    "        new_img\n",
    "    )"
   ]
  },
  {
   "cell_type": "code",
   "execution_count": 4,
   "metadata": {},
   "outputs": [
    {
     "data": {
      "image/png": "[encoded data removed]",
      "text/plain": [
       "<matplotlib.figure.Figure at 0x196f4bbf240>"
      ]
     },
     "metadata": {},
     "output_type": "display_data"
    },
    {
     "data": {
      "image/png": "[encoded data removed]",
      "text/plain": [
       "<matplotlib.figure.Figure at 0x196f4bbf240>"
      ]
     },
     "metadata": {},
     "output_type": "display_data"
    }
   ],
   "source": [
    "#plt.ion()\n",
    "fig,ax = plt.subplots(1,1)\n",
    "for i  in range(10000):\n",
    "    img = _propagate(img,dt=0.2,dx=1.,dy=1.)\n",
    "  \n",
    "    if (i%1000 == 0):\n",
    "        print(np.median(img))\n",
    "        plt.imshow(img, cmap='hot', interpolation='nearest')\n",
    "        display.clear_output(wait=True)\n",
    "        display.display(plt.gcf())\n",
    "        time.sleep(0.5)\n"
   ]
  },
  {
   "cell_type": "markdown",
   "metadata": {
    "collapsed": true
   },
   "source": [
    "# 2. Basic Q_learning"
   ]
  },
  {
   "cell_type": "code",
   "execution_count": 40,
   "metadata": {
    "collapsed": true
   },
   "outputs": [],
   "source": [
    "Q = np.random.rand(2,2)"
   ]
  },
  {
   "cell_type": "code",
   "execution_count": 41,
   "metadata": {
    "collapsed": true
   },
   "outputs": [],
   "source": [
    "def _update_Q(Q,x,y,a,r):\n",
    "    alpha = 0.1\n",
    "    gamma = 0.1\n",
    "    Q[x,a] = Q[x,a] + alpha*(r+gamma*np.max(Q[y,:])-Q[x,a])\n",
    "    return Q\n",
    "\n",
    "def _get_state(T,T_ideal):\n",
    "    return int(T-T_ideal >0)\n",
    "def _update_state(T,T_ideal,a):\n",
    "    T_new = T+2*(0.5-a)*np.random.rand()\n",
    "    return T_new,_get_state(T_new,T_ideal)\n"
   ]
  },
  {
   "cell_type": "code",
   "execution_count": 49,
   "metadata": {},
   "outputs": [
    {
     "name": "stdout",
     "output_type": "stream",
     "text": [
      "heat up 10.0246251681\n",
      "cool down 22.3171225754\n",
      "heat up 23.0851788908\n",
      "cool down 23.0257813092\n",
      "heat up 23.1796642557\n",
      "cool down 22.3902830827\n",
      "cool down 23.6261767688\n",
      "heat up 22.702693015\n",
      "heat up 22.7332219807\n",
      "heat up 23.8563757147\n",
      "heat up 10.5267583828\n",
      "cool down 22.8990857571\n",
      "cool down 22.7492761622\n",
      "heat up 22.6510963709\n",
      "heat up 23.3643031507\n",
      "cool down 23.242473247\n",
      "heat up 23.0298338622\n",
      "heat up 22.7289204541\n",
      "cool down 22.5132470735\n",
      "cool down 22.9195785765\n",
      "cool down 35.5442967305\n",
      "cool down 23.50931886\n",
      "heat up 23.3230678591\n",
      "heat up 23.4386213646\n",
      "heat up 23.443077489\n",
      "heat up 23.2725649102\n",
      "heat up 23.7505571034\n",
      "heat up 22.7028879472\n",
      "cool down 22.9462301947\n",
      "heat up 23.5075284355\n",
      "cool down 35.1004783488\n",
      "cool down 22.4664717647\n",
      "cool down 22.444571394\n",
      "cool down 23.0617316691\n",
      "cool down 22.8951526275\n",
      "heat up 23.1921079118\n",
      "heat up 22.9123099519\n",
      "heat up 23.7562350349\n",
      "cool down 22.0337414668\n",
      "cool down 22.9899305976\n",
      "cool down 40.86525474\n",
      "cool down 23.6092790371\n",
      "heat up 23.3108699883\n",
      "heat up 23.4299882587\n",
      "heat up 23.2453007581\n",
      "heat up 22.897162612\n",
      "heat up 23.1970987314\n",
      "cool down 22.5334684068\n",
      "cool down 23.1269892846\n",
      "cool down 22.2247466668\n"
     ]
    }
   ],
   "source": [
    "T_ideal = 23.\n",
    "ACTION = ['heat up','cool down']\n",
    "for j in range(5):\n",
    "    T = np.random.choice([np.random.randint(8,15),np.random.randint(30,50)])\n",
    "    for i in range(10000):\n",
    "        x = _get_state(T,T_ideal)\n",
    "        a = np.argmax(Q[x,:])\n",
    "        r = -np.abs(T-T_ideal)/T_ideal\n",
    "        T,y = _update_state(T,T_ideal,a)\n",
    "\n",
    "        Q = _update_Q(Q,x,y,a,r)\n",
    "        if (i % 1000 == 0):\n",
    "            print(ACTION[a],T)"
   ]
  },
  {
   "cell_type": "code",
   "execution_count": 50,
   "metadata": {},
   "outputs": [
    {
     "data": {
      "text/plain": [
       "(array([ -1.30045602e-02,  -1.96260424e+02]),\n",
       " array([ -3.56757795e+02,  -1.60177569e-02]))"
      ]
     },
     "execution_count": 50,
     "metadata": {},
     "output_type": "execute_result"
    }
   ],
   "source": [
    "Q[0,:],Q[1,:]"
   ]
  },
  {
   "cell_type": "code",
   "execution_count": 53,
   "metadata": {},
   "outputs": [
    {
     "data": {
      "text/plain": [
       "1"
      ]
     },
     "execution_count": 53,
     "metadata": {},
     "output_type": "execute_result"
    }
   ],
   "source": [
    "np.sign(5)"
   ]
  },
  {
   "cell_type": "markdown",
   "metadata": {},
   "source": [
    "as it should be!"
   ]
  },
  {
   "cell_type": "code",
   "execution_count": null,
   "metadata": {
    "collapsed": true
   },
   "outputs": [],
   "source": []
  }
 ],
 "metadata": {
  "kernelspec": {
   "display_name": "Python [conda env:gpu]",
   "language": "python",
   "name": "conda-env-gpu-py"
  },
  "language_info": {
   "codemirror_mode": {
    "name": "ipython",
    "version": 3
   },
   "file_extension": ".py",
   "mimetype": "text/x-python",
   "name": "python",
   "nbconvert_exporter": "python",
   "pygments_lexer": "ipython3",
   "version": "3.5.4"
  }
 },
 "nbformat": 4,
 "nbformat_minor": 2
}
